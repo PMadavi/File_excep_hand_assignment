{
  "nbformat": 4,
  "nbformat_minor": 0,
  "metadata": {
    "colab": {
      "provenance": []
    },
    "kernelspec": {
      "name": "python3",
      "display_name": "Python 3"
    },
    "language_info": {
      "name": "python"
    }
  },
  "cells": [
    {
      "cell_type": "markdown",
      "source": [
        "# 1.\tWhat is the difference between interpreted and compiled languages?\n",
        "  -\tCompiled languages: source code is translated ahead-of-time into machine code (binary) by a compiler; the resulting executable runs directly on the CPU. Advantages: generally faster runtime, optimization, no need to distribute source. Examples: C, C++.\n",
        "  -\tInterpreted languages: source code (or an intermediate form) is executed by an interpreter at runtime, which reads and performs instructions on the fly. Advantages: faster edit-run cycles, portability. Examples: classic Python (interpreter/bytecode VM), Ruby, JavaScript (often JIT-compiled now).\n",
        "  -\tMany languages use a mix (compile to bytecode + interpreter or JIT), so the distinction can blur.\n"
      ],
      "metadata": {
        "id": "hyl9YnEd7wCL"
      }
    },
    {
      "cell_type": "markdown",
      "source": [
        "# 2.\tWhat is exception handling in Python?\n",
        "  -\tException handling is a mechanism to catch and respond to runtime errors (exceptions) so a program can recover, clean up resources, or exit gracefully. It uses try, except, else, and finally blocks.\n"
      ],
      "metadata": {
        "id": "AZj1En7d8H4Y"
      }
    },
    {
      "cell_type": "markdown",
      "source": [
        "# 3.\tWhat is the purpose of the finally block in exception handling?\n",
        "  -\tThe finally block contains code that must run whether an exception occurred or not (e.g., resource cleanup like closing files or network connections). It runs after try/except/else.\n"
      ],
      "metadata": {
        "id": "sDjmAgA08RyF"
      }
    },
    {
      "cell_type": "markdown",
      "source": [
        "# 4.\tWhat is logging in Python?\n",
        "  -\tLogging is the practice of recording runtime information (messages about application events, errors, warnings, debug info) to consoles, files, or other handlers using the standard logging module. It’s better than printing because it supports levels, formatting, and configurable outputs.\n"
      ],
      "metadata": {
        "id": "gtLhpNXj8XXj"
      }
    },
    {
      "cell_type": "markdown",
      "source": [
        "# 5.\tWhat is the significance of the del method in Python?\n",
        "  -\tdel(self) is an object destructor called when an object is about to be garbage-collected. It’s used for cleanup but is unreliable for critical resource release (timing isn’t guaranteed, may not run at interpreter shutdown). Prefer context managers or explicit close methods.\n"
      ],
      "metadata": {
        "id": "qEMSK_X08egv"
      }
    },
    {
      "cell_type": "markdown",
      "source": [
        "# 6.\tWhat is the difference between import and from ... import in Python?\n",
        "  -\timport module — imports the module object and you refer to its members with module.name.\n",
        "  -\tfrom module import name — imports specific names (functions, classes, variables) directly into the current namespace so you use name without module prefix.\n",
        "  -\tfrom module import * — imports all public names (not recommended due to possible namespace collisions).\n"
      ],
      "metadata": {
        "id": "af56fTuA8uKQ"
      }
    },
    {
      "cell_type": "markdown",
      "source": [
        "# 7.\tHow can you handle multiple exceptions in Python?\n",
        "  -\tUse multiple except clauses:\n",
        "    try:\n",
        "    ...\n",
        "    except ValueError:\n",
        "    ...\n",
        "    except (TypeError, KeyError) as e:\n",
        "    ...\n",
        "    except Exception as e:\n",
        "    ...\n",
        "  -\tYou can catch several exception types in one clause using a tuple. Order matters: more specific exceptions first.\n"
      ],
      "metadata": {
        "id": "-sDknvFE83TX"
      }
    },
    {
      "cell_type": "markdown",
      "source": [
        "# 8.\tWhat is the purpose of the with statement when handling files in Python?\n",
        "  -\twith provides a context manager that automatically acquires and releases   resources. For files, it ensures the file is closed when the block exits, even if an exception occurs:\n",
        "  with open('f.txt') as f:\n",
        "  data = f.read()\n"
      ],
      "metadata": {
        "id": "twwJhzqu9Mno"
      }
    },
    {
      "cell_type": "markdown",
      "source": [
        "# 9.\tWhat is the difference between multithreading and multiprocessing?\n",
        "  -\tMultithreading: multiple threads run within the same process and share memory. In CPython, the Global Interpreter Lock (GIL) limits CPU-bound concurrency — threads are best for I/O-bound tasks.\n",
        "  -\tMultiprocessing: separate processes, each with their own memory space; true parallelism on multiple CPU cores. Best for CPU-bound workloads; communication uses IPC (queues, pipes, shared memory).\n"
      ],
      "metadata": {
        "id": "FD8337P19c2p"
      }
    },
    {
      "cell_type": "markdown",
      "source": [
        "# 10.\tWhat are the advantages of using logging in a program?\n",
        "  -\tPersistent record of events/errors, configurable granularity (levels), different outputs (files, console, remote), structured messages for later analysis, easier debugging and monitoring in production than using print statements.\n"
      ],
      "metadata": {
        "id": "Gwg8QBQi9kJD"
      }
    },
    {
      "cell_type": "markdown",
      "source": [
        "# 11.\tWhat is memory management in Python?\n",
        "  -\tMemory management is how Python allocates, tracks, and frees memory for objects. It includes reference counting, a cyclic garbage collector, and internal memory pools (for small objects). The interpreter and runtime manage allocation/deallocation so the programmer usually doesn’t manage memory manually.\n"
      ],
      "metadata": {
        "id": "LJ9kJ-4O9snz"
      }
    },
    {
      "cell_type": "markdown",
      "source": [
        "# 12.\tWhat are the basic steps involved in exception handling in Python?\n",
        "  -\tIdentify code that may raise exceptions (put in try).\n",
        "  -\tCatch exceptions using except blocks to handle specific errors.\n",
        "  -\tOptionally use else to run code if no exception occurred.\n",
        "  -\tUse finally for cleanup that must run regardless of exceptions.\n"
      ],
      "metadata": {
        "id": "imlP-wTj91Nl"
      }
    },
    {
      "cell_type": "markdown",
      "source": [
        "# 13.\tWhy is memory management important in Python?\n",
        "  -\tTo avoid memory leaks and excessive memory use, ensure application stability and performance, and manage scarce resources. Although Python automates much of this, long-lived references, large caches, or C extensions can cause leaks if not handled properly.\n"
      ],
      "metadata": {
        "id": "78okaX8M9_0J"
      }
    },
    {
      "cell_type": "markdown",
      "source": [
        "# 14.\tWhat is the role of try and except in exception handling?\n",
        "  -\ttry defines a block of code where exceptions may occur. except defines handlers for specific exception types to respond or recover when those exceptions are raised.\n"
      ],
      "metadata": {
        "id": "UuYcEydK-GBd"
      }
    },
    {
      "cell_type": "markdown",
      "source": [
        "# 15.\tHow does Python's garbage collection system work?\n",
        "  -\tCPython uses reference counting: each object tracks how many references point to it; when the count hits zero it’s deallocated immediately. To handle reference cycles (objects referencing each other), Python includes a cyclic garbage collector that periodically detects and collects unreachable cycles. Other implementations (PyPy, Jython) use different GC strategies.\n"
      ],
      "metadata": {
        "id": "6FvTvqDp-Kk9"
      }
    },
    {
      "cell_type": "markdown",
      "source": [
        "16.\tWhat is the purpose of the else block in exception handling?\n",
        "  -\tThe else block runs if the try block finished without raising an exception. It’s a good place for code that should run only when no error occurred, keeping the try block focused on code that might fail.\n"
      ],
      "metadata": {
        "id": "pVJSAsip-P8L"
      }
    },
    {
      "cell_type": "markdown",
      "source": [
        "# 17.\tWhat are the common logging levels in Python?\n",
        "  -\tDEBUG, INFO, WARNING, ERROR, CRITICAL (from lowest to highest severity). You configure a level so messages at that level and above are recorded.\n"
      ],
      "metadata": {
        "id": "U3qv10a_-UzW"
      }
    },
    {
      "cell_type": "markdown",
      "source": [
        "# 18.\tWhat is the difference between os.fork() and multiprocessing in Python?\n",
        "  -\tos.fork() creates a child process by duplicating the current process (Unix-only). It gives low-level control but requires careful resource and IPC handling.\n",
        "  -\tmultiprocessing is a high-level module that creates processes, offers cross-platform support (including Windows), and provides safe primitives for communication (Queues, Pools) and process management.\n"
      ],
      "metadata": {
        "id": "zrnK8DQS-bFU"
      }
    },
    {
      "cell_type": "markdown",
      "source": [
        "# 19.\tWhat is the importance of closing a file in Python?\n",
        "  -\tClosing a file frees system resources, ensures buffered data is flushed to disk, and prevents resource leaks. Using with automatically closes files.\n"
      ],
      "metadata": {
        "id": "t-AjplPE-iCn"
      }
    },
    {
      "cell_type": "markdown",
      "source": [
        "# 20.\tWhat is the difference between file.read() and file.readline() in Python?\n",
        "  -\tfile.read(size=-1) reads up to size bytes (or entire file if size omitted) and returns them as a string/bytes.\n",
        "  -\tfile.readline() reads one line from the file (up to the newline) and returns it. Useful for iterating line-by-line.\n"
      ],
      "metadata": {
        "id": "PAqS5Geg-npf"
      }
    },
    {
      "cell_type": "markdown",
      "source": [
        "# 21.\tWhat is the logging module in Python used for?\n",
        "  -\tThe logging module provides functions and classes to record application events at different severity levels, format messages, and route logs to handlers (file, console, email, syslog, etc.). It supports configuration, filters, and structured logging.\n"
      ],
      "metadata": {
        "id": "hadBt5-h-uac"
      }
    },
    {
      "cell_type": "markdown",
      "source": [
        "# 22.\tWhat is the os module in Python used for in file handling?\n",
        "  -\tThe os module offers OS-level functions: path operations (os.path), directory and file manipulation (os.remove, os.rename, os.mkdir, os.rmdir), listing files (os.listdir), environment variables, and file descriptor operations. Combined with pathlib and shutil it covers most filesystem tasks.\n"
      ],
      "metadata": {
        "id": "c4vuDsBf-zhy"
      }
    },
    {
      "cell_type": "markdown",
      "source": [
        "# 23.\tWhat are the challenges associated with memory management in Python?\n",
        "  -\tReference cycles and memory leaks (especially via global caches or closures).\n",
        "  -\tLarge memory usage from big data structures.\n",
        "  -\tFragmentation and allocator overhead.\n",
        "  -\tManaging memory in C extensions.\n",
        "  -\tPredictability of GC pauses for low-latency apps.\n",
        "  -\tLimited control over exact deallocation timing (except reference counting in CPython).\n"
      ],
      "metadata": {
        "id": "xw2NWl_x-8Pg"
      }
    },
    {
      "cell_type": "markdown",
      "source": [
        "# 24.\tHow do you raise an exception manually in Python?\n",
        "  -\tUse the raise statement with an exception instance or class:\n",
        "    raise ValueError(\"bad value\")\n",
        "    or\n",
        "    raise\n",
        "    You can re-raise the current exception from an except block with raise, or chain exceptions with raise NewError(...) from original_exc.\n"
      ],
      "metadata": {
        "id": "XqRQlSFn_JKv"
      }
    },
    {
      "cell_type": "markdown",
      "source": [
        "# 25.\tWhy is it important to use multithreading in certain applications?\n",
        "  -\tMultithreading is useful for I/O-bound tasks (network requests, disk I/O, GUI responsiveness) because threads can wait for I/O without blocking the whole program. Threads share memory space, making communication cheap for some designs. It can simplify concurrency design where parallel CPU use isn’t the goal.\n"
      ],
      "metadata": {
        "id": "zb2KmLbt_S-I"
      }
    },
    {
      "cell_type": "code",
      "source": [],
      "metadata": {
        "id": "x7fAJO_m_aiA"
      },
      "execution_count": null,
      "outputs": []
    },
    {
      "cell_type": "code",
      "source": [],
      "metadata": {
        "id": "TR8m9PB0_aCq"
      },
      "execution_count": null,
      "outputs": []
    },
    {
      "cell_type": "code",
      "source": [],
      "metadata": {
        "id": "CECw8yO5_Z1R"
      },
      "execution_count": null,
      "outputs": []
    },
    {
      "cell_type": "code",
      "source": [
        "# 1.\tHow can you open a file for writing in Python and write a string to it?\n",
        "\n",
        "# Open the file in write mode ('w') and write a string\n",
        "with open(\"example.txt\", \"w\") as file:\n",
        "    file.write(\"Hello, Python file handling!\")"
      ],
      "metadata": {
        "id": "fpe4Y_GX_ZKE"
      },
      "execution_count": null,
      "outputs": []
    },
    {
      "cell_type": "code",
      "source": [
        "# 2.\tWrite a Python program to read the contents of a file and print each line.\n",
        "\n",
        "# Open the file in read mode\n",
        "with open(\"example.txt\", \"r\") as file:\n",
        "    # Loop through each line in the file\n",
        "    for line in file:\n",
        "        print(line.strip())  # strip() removes extra spaces/newlines\n"
      ],
      "metadata": {
        "colab": {
          "base_uri": "https://localhost:8080/"
        },
        "id": "LWIQJB-vCA88",
        "outputId": "d652747c-016b-432f-def6-96c7a51d4767"
      },
      "execution_count": null,
      "outputs": [
        {
          "output_type": "stream",
          "name": "stdout",
          "text": [
            "Hello, Python file handling!\n"
          ]
        }
      ]
    },
    {
      "cell_type": "code",
      "source": [
        "# 3.\tHow would you handle a case where the file doesn't exist while trying to open it for reading?\n",
        "\n",
        "try:\n",
        "    with open(\"example.txt\", \"r\") as file:\n",
        "        print(file.read())\n",
        "except FileNotFoundError:\n",
        "    print(\"Error: The file does not exist.\")\n"
      ],
      "metadata": {
        "colab": {
          "base_uri": "https://localhost:8080/"
        },
        "id": "E_WK_61iCN1D",
        "outputId": "90cc74b1-0fa1-4b94-f8c1-3d1c06c8b0dd"
      },
      "execution_count": null,
      "outputs": [
        {
          "output_type": "stream",
          "name": "stdout",
          "text": [
            "Hello, Python file handling!\n"
          ]
        }
      ]
    },
    {
      "cell_type": "code",
      "source": [
        "# 4.\tWrite a Python script that reads from one file and writes its content to another file.\n",
        "\n",
        "# Read from one file and write to another\n",
        "with open(\"source.txt\", \"r\") as src_file:\n",
        "    content = src_file.read()\n",
        "\n",
        "with open(\"destination.txt\", \"w\") as dest_file:\n",
        "    dest_file.write(content)\n",
        "\n",
        "print(\"File copied successfully!\")\n",
        "\n",
        "#sourse file destination not provided\n"
      ],
      "metadata": {
        "id": "Vk_ZV1VYCn9U"
      },
      "execution_count": null,
      "outputs": []
    },
    {
      "cell_type": "code",
      "source": [
        "# 5.\tHow would you catch and handle division by zero error in Python?\n",
        "\n",
        "try:\n",
        "    num1 = 10\n",
        "    num2 = 0\n",
        "    result = num1 / num2\n",
        "    print(\"Result:\", result)\n",
        "except ZeroDivisionError:\n",
        "    print(\"Error: Cannot divide by zero.\")\n"
      ],
      "metadata": {
        "colab": {
          "base_uri": "https://localhost:8080/"
        },
        "id": "RZFGhZHpDTI6",
        "outputId": "5276c5eb-6e54-45c4-d035-500ea11078db"
      },
      "execution_count": null,
      "outputs": [
        {
          "output_type": "stream",
          "name": "stdout",
          "text": [
            "Error: Cannot divide by zero.\n"
          ]
        }
      ]
    },
    {
      "cell_type": "code",
      "source": [
        "# 6.\tWrite a Python program that logs an error message to a log file when a division by zero exception occurs.\n",
        "\n",
        "import logging\n",
        "\n",
        "# Configure logging\n",
        "logging.basicConfig(filename=\"error.log\", level=logging.ERROR,\n",
        "                    format=\"%(asctime)s - %(levelname)s - %(message)s\")\n",
        "\n",
        "try:\n",
        "    num1 = 10\n",
        "    num2 = 0\n",
        "    result = num1 / num2\n",
        "except ZeroDivisionError as e:\n",
        "    logging.error(\"Division by zero occurred: %s\", e)\n",
        "    print(\"An error occurred. Check 'error.log' for details.\")\n"
      ],
      "metadata": {
        "colab": {
          "base_uri": "https://localhost:8080/"
        },
        "id": "zPoqykCZDeyO",
        "outputId": "8e36860b-390f-4cf8-b97b-6d8cfa7ce56f"
      },
      "execution_count": null,
      "outputs": [
        {
          "output_type": "stream",
          "name": "stderr",
          "text": [
            "ERROR:root:Division by zero occurred: division by zero\n"
          ]
        },
        {
          "output_type": "stream",
          "name": "stdout",
          "text": [
            "An error occurred. Check 'error.log' for details.\n"
          ]
        }
      ]
    },
    {
      "cell_type": "code",
      "source": [
        "# 7.\tHow do you log information at different levels (INFO, ERROR, WARNING) in Python using the logging module?\n",
        "\n",
        "import logging\n",
        "\n",
        "# Configure logging\n",
        "logging.basicConfig(filename=\"app.log\", level=logging.DEBUG,\n",
        "                    format=\"%(asctime)s - %(levelname)s - %(message)s\")\n",
        "\n",
        "# Logging messages at different levels\n",
        "logging.debug(\"This is a DEBUG message — useful for detailed troubleshooting.\")\n",
        "logging.info(\"This is an INFO message — general program updates.\")\n",
        "logging.warning(\"This is a WARNING message — something unexpected happened.\")\n",
        "logging.error(\"This is an ERROR message — a serious issue occurred.\")\n",
        "logging.critical(\"This is a CRITICAL message — program may not continue.\")\n"
      ],
      "metadata": {
        "colab": {
          "base_uri": "https://localhost:8080/"
        },
        "id": "Ar3f457HDp5t",
        "outputId": "f7c4de6e-50c8-4d80-9ece-180661d5fd94"
      },
      "execution_count": null,
      "outputs": [
        {
          "output_type": "stream",
          "name": "stderr",
          "text": [
            "WARNING:root:This is a WARNING message — something unexpected happened.\n",
            "ERROR:root:This is an ERROR message — a serious issue occurred.\n",
            "CRITICAL:root:This is a CRITICAL message — program may not continue.\n"
          ]
        }
      ]
    },
    {
      "cell_type": "code",
      "source": [
        "# 8.\tWrite a program to handle a file opening error using exception handling.\n",
        "\n",
        "try:\n",
        "    # Attempt to open a file\n",
        "    with open(\"data.txt\", \"r\") as file:\n",
        "        content = file.read()\n",
        "        print(content)\n",
        "except FileNotFoundError:\n",
        "    print(\"Error: The file 'data.txt' was not found.\")\n",
        "except PermissionError:\n",
        "    print(\"Error: You do not have permission to open this file.\")\n",
        "except Exception as e:\n",
        "    print(f\"An unexpected error occurred: {e}\")\n"
      ],
      "metadata": {
        "colab": {
          "base_uri": "https://localhost:8080/"
        },
        "id": "EeFRom-kD4oe",
        "outputId": "87c0c108-3aeb-46e3-9362-b8a4f39935a3"
      },
      "execution_count": null,
      "outputs": [
        {
          "output_type": "stream",
          "name": "stdout",
          "text": [
            "Error: The file 'data.txt' was not found.\n"
          ]
        }
      ]
    },
    {
      "cell_type": "code",
      "source": [
        "# 9.\tHow can you read a file line by line and store its content in a list in Python?\n",
        "\n",
        "# Open the file in read mode\n",
        "with open(\"example.txt\", \"r\") as file:\n",
        "    lines = file.readlines()  # Reads all lines into a list\n",
        "\n",
        "# Remove extra newline characters\n",
        "lines = [line.strip() for line in lines]\n",
        "\n",
        "print(lines)\n"
      ],
      "metadata": {
        "colab": {
          "base_uri": "https://localhost:8080/"
        },
        "id": "t5oJW5byPvbT",
        "outputId": "689fe405-70e5-439e-ec52-209e0d688f6a"
      },
      "execution_count": null,
      "outputs": [
        {
          "output_type": "stream",
          "name": "stdout",
          "text": [
            "['Hello, Python file handling!']\n"
          ]
        }
      ]
    },
    {
      "cell_type": "code",
      "source": [
        "# 10.\tHow can you append data to an existing file in Python?\n",
        "\n",
        "# Open the file in append mode\n",
        "with open(\"example.txt\", \"a\") as file:\n",
        "    file.write(\"\\nThis is a new line of text.\")\n",
        "\n",
        "print(\"Data appended successfully!\")\n"
      ],
      "metadata": {
        "colab": {
          "base_uri": "https://localhost:8080/"
        },
        "id": "TwoWqzqLP8zT",
        "outputId": "fdeb8e32-0388-46eb-b986-8e0d3e8ecb14"
      },
      "execution_count": null,
      "outputs": [
        {
          "output_type": "stream",
          "name": "stdout",
          "text": [
            "Data appended successfully!\n"
          ]
        }
      ]
    },
    {
      "cell_type": "code",
      "source": [
        "# 11.\tWrite a Python program that uses a try-except block to handle an error when attempting to access a dictionary key that doesn't exist.\n",
        "\n",
        "# Sample dictionary\n",
        "data = {\"name\": \"Pawan\", \"age\": 25}\n",
        "\n",
        "try:\n",
        "    # Trying to access a key that may not exist\n",
        "    print(\"City:\", data[\"city\"])\n",
        "except KeyError:\n",
        "    print(\"Error: The key 'city' does not exist in the dictionary.\")\n"
      ],
      "metadata": {
        "colab": {
          "base_uri": "https://localhost:8080/"
        },
        "id": "kCPus7DwQJjg",
        "outputId": "8f94cb43-705d-4e59-8456-ccbce3cb0347"
      },
      "execution_count": null,
      "outputs": [
        {
          "output_type": "stream",
          "name": "stdout",
          "text": [
            "Error: The key 'city' does not exist in the dictionary.\n"
          ]
        }
      ]
    },
    {
      "cell_type": "code",
      "source": [
        "# 12.\tWrite a program that demonstrates using multiple except blocks to handle different types of exceptions.\n",
        "\n",
        "try:\n",
        "    # Code that may raise different exceptions\n",
        "    num = int(input(\"Enter a number: \"))\n",
        "    result = 10 / num\n",
        "    print(\"Result:\", result)\n",
        "\n",
        "    data = {\"name\": \"Pawan\"}\n",
        "    print(\"City:\", data[\"city\"])  # KeyError\n",
        "\n",
        "except ZeroDivisionError:\n",
        "    print(\"Error: Cannot divide by zero.\")\n",
        "except ValueError:\n",
        "    print(\"Error: Invalid input. Please enter a valid integer.\")\n",
        "except KeyError:\n",
        "    print(\"Error: The specified key does not exist in the dictionary.\")\n",
        "except Exception as e:\n",
        "    print(f\"An unexpected error occurred: {e}\")\n"
      ],
      "metadata": {
        "colab": {
          "base_uri": "https://localhost:8080/"
        },
        "id": "A_73uZLMQUCu",
        "outputId": "ab8f77ca-74b5-48e0-8c93-e7a2596b5c79"
      },
      "execution_count": null,
      "outputs": [
        {
          "output_type": "stream",
          "name": "stdout",
          "text": [
            "Enter a number: 15\n",
            "Result: 0.6666666666666666\n",
            "Error: The specified key does not exist in the dictionary.\n"
          ]
        }
      ]
    },
    {
      "cell_type": "code",
      "source": [
        "# 13.\tHow would you check if a file exists before attempting to read it in Python?\n",
        "\n",
        "import os\n",
        "\n",
        "file_path = \"example.txt\"\n",
        "\n",
        "if os.path.exists(file_path):\n",
        "    with open(file_path, \"r\") as file:\n",
        "        print(file.read())\n",
        "else:\n",
        "    print(f\"Error: The file '{file_path}' does not exist.\")\n"
      ],
      "metadata": {
        "colab": {
          "base_uri": "https://localhost:8080/"
        },
        "id": "IldQk50wQp-p",
        "outputId": "3eb7571f-1c53-4566-bba0-3e8e69788f24"
      },
      "execution_count": null,
      "outputs": [
        {
          "output_type": "stream",
          "name": "stdout",
          "text": [
            "Hello, Python file handling!\n",
            "This is a new line of text.\n"
          ]
        }
      ]
    },
    {
      "cell_type": "code",
      "source": [
        "# 14.\tWrite a program that uses the logging module to log both informational and error messages.\n",
        "\n",
        "import logging\n",
        "\n",
        "# Configure logging\n",
        "logging.basicConfig(filename=\"app.log\", level=logging.DEBUG,\n",
        "                    format=\"%(asctime)s - %(levelname)s - %(message)s\")\n",
        "\n",
        "# Log an informational message\n",
        "logging.info(\"Program started successfully.\")\n",
        "\n",
        "try:\n",
        "    num1 = 10\n",
        "    num2 = 0\n",
        "    result = num1 / num2\n",
        "    logging.info(f\"Division result: {result}\")\n",
        "except ZeroDivisionError as e:\n",
        "    logging.error(f\"Division by zero error: {e}\")\n",
        "\n",
        "logging.info(\"Program finished execution.\")\n"
      ],
      "metadata": {
        "colab": {
          "base_uri": "https://localhost:8080/"
        },
        "id": "MRyS98llQ1MH",
        "outputId": "bf74c5e0-6546-4e76-c38a-a687c1b934ca"
      },
      "execution_count": null,
      "outputs": [
        {
          "output_type": "stream",
          "name": "stderr",
          "text": [
            "ERROR:root:Division by zero error: division by zero\n"
          ]
        }
      ]
    },
    {
      "cell_type": "code",
      "source": [
        "# 15.\tWrite a Python program that prints the content of a file and handles the case when the file is empty.\n",
        "\n",
        "file_path = \"example.txt\"\n",
        "\n",
        "try:\n",
        "    with open(file_path, \"r\") as file:\n",
        "        content = file.read()\n",
        "\n",
        "        if content.strip() == \"\":  # Remove spaces/newlines before checking\n",
        "            print(\"The file is empty.\")\n",
        "        else:\n",
        "            print(\"File content:\\n\", content)\n",
        "\n",
        "except FileNotFoundError:\n",
        "    print(f\"Error: The file '{file_path}' does not exist.\")\n"
      ],
      "metadata": {
        "colab": {
          "base_uri": "https://localhost:8080/"
        },
        "id": "O3O1_fcnRCXd",
        "outputId": "1efc1410-63c1-416d-b1de-de2878c522cb"
      },
      "execution_count": null,
      "outputs": [
        {
          "output_type": "stream",
          "name": "stdout",
          "text": [
            "File content:\n",
            " Hello, Python file handling!\n",
            "This is a new line of text.\n"
          ]
        }
      ]
    },
    {
      "cell_type": "code",
      "source": [
        "# 16.\tDemonstrate how to use memory profiling to check the memory usage of a small program.\n"
      ],
      "metadata": {
        "id": "8BdgwPYkRRqg"
      },
      "execution_count": null,
      "outputs": []
    },
    {
      "cell_type": "code",
      "source": [
        "# 17.\tWrite a Python program to create and write a list of numbers to a file, one number per line.\n",
        "\n",
        "# List of numbers\n",
        "numbers = [10, 20, 30, 40, 50]\n",
        "\n",
        "# Create and write to file\n",
        "with open(\"numbers.txt\", \"w\") as file:\n",
        "    for num in numbers:\n",
        "        file.write(str(num) + \"\\n\")\n",
        "\n",
        "print(\"Numbers written to 'numbers.txt' successfully!\")\n"
      ],
      "metadata": {
        "colab": {
          "base_uri": "https://localhost:8080/"
        },
        "id": "Xoe9yzRlSVjV",
        "outputId": "f176702e-cbc9-4135-9ab8-753cfb9669d0"
      },
      "execution_count": null,
      "outputs": [
        {
          "output_type": "stream",
          "name": "stdout",
          "text": [
            "Numbers written to 'numbers.txt' successfully!\n"
          ]
        }
      ]
    },
    {
      "cell_type": "code",
      "source": [
        "# 18.\tHow would you implement a basic logging setup that logs to a file with rotation after 1MB?\n"
      ],
      "metadata": {
        "id": "Qvm1eqO8SjHl"
      },
      "execution_count": null,
      "outputs": []
    },
    {
      "cell_type": "code",
      "source": [
        "# 19.\tWrite a program that handles both IndexError and KeyError using a try-except block.\n",
        "\n",
        "my_list = [1, 2, 3]\n",
        "my_dict = {\"name\": \"Pawan\"}\n",
        "\n",
        "try:\n",
        "    # Accessing an out-of-range index\n",
        "    print(my_list[5])\n",
        "\n",
        "    # Accessing a missing dictionary key\n",
        "    print(my_dict[\"age\"])\n",
        "\n",
        "except IndexError:\n",
        "    print(\"Error: List index is out of range.\")\n",
        "except KeyError:\n",
        "    print(\"Error: Dictionary key not found.\")\n"
      ],
      "metadata": {
        "colab": {
          "base_uri": "https://localhost:8080/"
        },
        "id": "sAOXdk0kS2so",
        "outputId": "fe80f337-2325-4dee-972f-04a43a3105c7"
      },
      "execution_count": null,
      "outputs": [
        {
          "output_type": "stream",
          "name": "stdout",
          "text": [
            "Error: List index is out of range.\n"
          ]
        }
      ]
    },
    {
      "cell_type": "code",
      "source": [
        "# 20.\tHow would you open a file and read its contents using a context manager in Python?\n",
        "\n",
        "# Using a context manager to read a file\n",
        "with open(\"example.txt\", \"r\") as file:\n",
        "    content = file.read()\n",
        "    print(content)\n"
      ],
      "metadata": {
        "colab": {
          "base_uri": "https://localhost:8080/"
        },
        "id": "6t-ylGGaTALH",
        "outputId": "338e5cf3-e4ac-448f-844e-8d47ac3ae4f7"
      },
      "execution_count": null,
      "outputs": [
        {
          "output_type": "stream",
          "name": "stdout",
          "text": [
            "Hello, Python file handling!\n",
            "This is a new line of text.\n"
          ]
        }
      ]
    },
    {
      "cell_type": "code",
      "source": [
        "# 21.\tWrite a Python program that reads a file and prints the number of occurrences of a specific word.\n",
        "\n",
        "# File path and target word\n",
        "file_path = \"example.txt\"\n",
        "target_word = \"Python\"\n",
        "\n",
        "try:\n",
        "    with open(file_path, \"r\") as file:\n",
        "        content = file.read().lower()  # Convert to lowercase for case-insensitive search\n",
        "\n",
        "    # Count occurrences\n",
        "    count = content.split().count(target_word.lower())\n",
        "\n",
        "    print(f\"The word '{target_word}' occurs {count} times in the file.\")\n",
        "\n",
        "except FileNotFoundError:\n",
        "    print(f\"Error: The file '{file_path}' does not exist.\")\n"
      ],
      "metadata": {
        "colab": {
          "base_uri": "https://localhost:8080/"
        },
        "id": "vAylt_2-TL0Z",
        "outputId": "ab274150-dd0b-497a-c176-5627790972ab"
      },
      "execution_count": null,
      "outputs": [
        {
          "output_type": "stream",
          "name": "stdout",
          "text": [
            "The word 'Python' occurs 1 times in the file.\n"
          ]
        }
      ]
    },
    {
      "cell_type": "code",
      "source": [
        "# 22.\tHow can you check if a file is empty before attempting to read its contents?\n",
        "\n",
        "import os\n",
        "\n",
        "file_path = \"example.txt\"\n",
        "\n",
        "if os.path.exists(file_path) and os.path.getsize(file_path) == 0:\n",
        "    print(\"The file is empty.\")\n",
        "else:\n",
        "    with open(file_path, \"r\") as file:\n",
        "        print(file.read())\n"
      ],
      "metadata": {
        "colab": {
          "base_uri": "https://localhost:8080/"
        },
        "id": "OG5ZB16xTh_6",
        "outputId": "b586352f-bd13-4676-a63d-619a878af8dd"
      },
      "execution_count": null,
      "outputs": [
        {
          "output_type": "stream",
          "name": "stdout",
          "text": [
            "Hello, Python file handling!\n",
            "This is a new line of text.\n"
          ]
        }
      ]
    },
    {
      "cell_type": "code",
      "source": [
        "# 23.\tWrite a Python program that writes to a log file when an error occurs during file handling.\n"
      ],
      "metadata": {
        "id": "8HmHeIfETti1"
      },
      "execution_count": null,
      "outputs": []
    }
  ]
}